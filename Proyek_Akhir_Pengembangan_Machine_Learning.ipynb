{
  "nbformat": 4,
  "nbformat_minor": 0,
  "metadata": {
    "colab": {
      "provenance": [],
      "gpuType": "T4"
    },
    "kernelspec": {
      "name": "python3",
      "display_name": "Python 3"
    },
    "language_info": {
      "name": "python"
    },
    "accelerator": "GPU"
  },
  "cells": [
    {
      "cell_type": "markdown",
      "source": [
        "Animal Image Classification"
      ],
      "metadata": {
        "id": "Ioerlos8Vc2h"
      }
    },
    {
      "cell_type": "code",
      "execution_count": 1,
      "metadata": {
        "id": "y2Mha-CSVaHP"
      },
      "outputs": [],
      "source": [
        "!pip install -q kaggle"
      ]
    },
    {
      "cell_type": "code",
      "source": [
        "!mkdir ~/.kaggle"
      ],
      "metadata": {
        "id": "4HoU7tkGVhlv"
      },
      "execution_count": 2,
      "outputs": []
    },
    {
      "cell_type": "code",
      "source": [
        "!cp kaggle.json ~/.kaggle"
      ],
      "metadata": {
        "id": "LyQXy6K_Vize"
      },
      "execution_count": 3,
      "outputs": []
    },
    {
      "cell_type": "code",
      "source": [
        "!chmod 600 ~/.kaggle/kaggle.json"
      ],
      "metadata": {
        "id": "ujm_hiPhVkJt"
      },
      "execution_count": 4,
      "outputs": []
    },
    {
      "cell_type": "code",
      "source": [
        "!kaggle datasets download -d 'alessiocorrado99/animals10'"
      ],
      "metadata": {
        "colab": {
          "base_uri": "https://localhost:8080/"
        },
        "id": "7Nz3vyzjVlc7",
        "outputId": "2d327159-4177-4a65-c543-15ed28d3a071"
      },
      "execution_count": 5,
      "outputs": [
        {
          "output_type": "stream",
          "name": "stdout",
          "text": [
            "Downloading animals10.zip to /content\n",
            " 99% 579M/586M [00:06<00:00, 92.4MB/s]\n",
            "100% 586M/586M [00:07<00:00, 86.0MB/s]\n"
          ]
        }
      ]
    },
    {
      "cell_type": "code",
      "source": [
        "!cp animals10.zip /tmp"
      ],
      "metadata": {
        "id": "g5ZWux9DVm2w"
      },
      "execution_count": 6,
      "outputs": []
    },
    {
      "cell_type": "code",
      "source": [
        "import os\n",
        "import zipfile\n",
        "local_zip = '/tmp/animals10.zip'\n",
        "zip_ref = zipfile.ZipFile(local_zip, 'r')\n",
        "zip_ref.extractall('/tmp')\n",
        "zip_ref.close()"
      ],
      "metadata": {
        "id": "UNemYydnVoJ_"
      },
      "execution_count": 7,
      "outputs": []
    },
    {
      "cell_type": "markdown",
      "source": [
        "translate =\n",
        "cane: dog,\n",
        "cavallo: horse,\n",
        "elefante: elephant,\n",
        "farfalla: butterfly,\n",
        "gallina: chicken,\n",
        "gatto: cat,\n",
        "mucca: cow,\n",
        "pecora: sheep,\n",
        "ragno: spider,\n",
        "scoiattolo: squirrel"
      ],
      "metadata": {
        "id": "ChGS5LscVqxF"
      }
    },
    {
      "cell_type": "code",
      "source": [
        "os.listdir('/tmp/raw-img')"
      ],
      "metadata": {
        "colab": {
          "base_uri": "https://localhost:8080/"
        },
        "id": "9IBGYcM2VqHP",
        "outputId": "bfe9221b-bda0-4aa6-9247-66f070ebafa5"
      },
      "execution_count": 8,
      "outputs": [
        {
          "output_type": "execute_result",
          "data": {
            "text/plain": [
              "['mucca',\n",
              " 'farfalla',\n",
              " 'cane',\n",
              " 'gatto',\n",
              " 'cavallo',\n",
              " 'scoiattolo',\n",
              " 'elefante',\n",
              " 'pecora',\n",
              " 'ragno',\n",
              " 'gallina']"
            ]
          },
          "metadata": {},
          "execution_count": 8
        }
      ]
    },
    {
      "cell_type": "code",
      "source": [
        "from tensorflow.keras.preprocessing.image import ImageDataGenerator\n",
        "\n",
        "train_dir = os.path.join('/tmp/raw-img')\n",
        "train_datagen = ImageDataGenerator(rescale=1./255,\n",
        "                                   rotation_range=20,\n",
        "                                   zoom_range=0.2,\n",
        "                                   shear_range=0.2,\n",
        "                                   fill_mode = 'nearest',\n",
        "                                   validation_split=0.2)"
      ],
      "metadata": {
        "id": "Hu0FyMvXVu9C"
      },
      "execution_count": 9,
      "outputs": []
    },
    {
      "cell_type": "code",
      "source": [
        "train_generator = train_datagen.flow_from_directory(\n",
        "    train_dir,\n",
        "    target_size=(150,150),\n",
        "    batch_size=32,\n",
        "    class_mode='categorical',\n",
        "    subset='training')\n",
        "\n",
        "validation_generator = train_datagen.flow_from_directory(\n",
        "    train_dir,\n",
        "    target_size=(150,150),\n",
        "    batch_size=32,\n",
        "    class_mode='categorical',\n",
        "    subset='validation')"
      ],
      "metadata": {
        "colab": {
          "base_uri": "https://localhost:8080/"
        },
        "id": "vgsmAFfSVwU8",
        "outputId": "f6242354-8804-494a-d341-b73bae055ba1"
      },
      "execution_count": 10,
      "outputs": [
        {
          "output_type": "stream",
          "name": "stdout",
          "text": [
            "Found 20947 images belonging to 10 classes.\n",
            "Found 5232 images belonging to 10 classes.\n"
          ]
        }
      ]
    },
    {
      "cell_type": "code",
      "source": [
        "import tensorflow as tf\n",
        "from tensorflow.keras.layers import Input, GlobalAveragePooling2D, Dense\n",
        "from tensorflow.keras.applications import ResNet152V2\n",
        "\n",
        "base_model = ResNet152V2(weights=\"imagenet\", include_top=False, input_tensor=Input(shape=(150, 150, 3)))\n",
        "\n",
        "# Freeze the pre-trained layers\n",
        "for layer in base_model.layers:\n",
        "    layer.trainable = False\n",
        "\n",
        "model = tf.keras.models.Sequential([\n",
        "    base_model,\n",
        "    GlobalAveragePooling2D(),\n",
        "    tf.keras.layers.Dense(512, activation='relu'),\n",
        "    tf.keras.layers.Dropout(0.5),\n",
        "    tf.keras.layers.Dense(256, activation='relu'),\n",
        "    tf.keras.layers.Dense(10, activation='softmax')\n",
        "])"
      ],
      "metadata": {
        "colab": {
          "base_uri": "https://localhost:8080/"
        },
        "id": "nmb2fzP8Vxqg",
        "outputId": "ce59a6eb-1d28-4cb7-f541-04c5f119b0a3"
      },
      "execution_count": 11,
      "outputs": [
        {
          "output_type": "stream",
          "name": "stdout",
          "text": [
            "Downloading data from https://storage.googleapis.com/tensorflow/keras-applications/resnet/resnet152v2_weights_tf_dim_ordering_tf_kernels_notop.h5\n",
            "234545216/234545216 [==============================] - 1s 0us/step\n"
          ]
        }
      ]
    },
    {
      "cell_type": "code",
      "source": [
        "model.compile(optimizer=tf.optimizers.Adam(learning_rate=0.001),\n",
        "              loss='categorical_crossentropy',\n",
        "              metrics=['accuracy'])"
      ],
      "metadata": {
        "id": "xXEn2WNpVzTX"
      },
      "execution_count": 12,
      "outputs": []
    },
    {
      "cell_type": "code",
      "source": [
        "class Callback(tf.keras.callbacks.Callback):\n",
        "  def on_epoch_end(self, epoch, logs={}):\n",
        "    if(logs.get('accuracy')>0.92 and logs.get('val_accuracy')>0.92):\n",
        "      print(\"\\nreached\")\n",
        "      self.model.stop_training = True\n",
        "callbacks = Callback()"
      ],
      "metadata": {
        "id": "8V2Y7bRvV1Nc"
      },
      "execution_count": 13,
      "outputs": []
    },
    {
      "cell_type": "code",
      "source": [
        "history = model.fit(\n",
        "    train_generator,\n",
        "    validation_data = validation_generator,\n",
        "    epochs=30,\n",
        "    verbose=2,\n",
        "    callbacks=[callbacks])"
      ],
      "metadata": {
        "colab": {
          "base_uri": "https://localhost:8080/"
        },
        "id": "7SAxy0OAV2dL",
        "outputId": "9b7706f6-b4fa-4185-81cd-8f945d08fe24"
      },
      "execution_count": 14,
      "outputs": [
        {
          "output_type": "stream",
          "name": "stdout",
          "text": [
            "Epoch 1/30\n",
            "655/655 - 212s - loss: 0.5692 - accuracy: 0.8251 - val_loss: 0.3365 - val_accuracy: 0.8903 - 212s/epoch - 324ms/step\n",
            "Epoch 2/30\n",
            "655/655 - 195s - loss: 0.4337 - accuracy: 0.8660 - val_loss: 0.3245 - val_accuracy: 0.8951 - 195s/epoch - 297ms/step\n",
            "Epoch 3/30\n",
            "655/655 - 191s - loss: 0.3746 - accuracy: 0.8789 - val_loss: 0.3109 - val_accuracy: 0.9037 - 191s/epoch - 292ms/step\n",
            "Epoch 4/30\n",
            "655/655 - 189s - loss: 0.3525 - accuracy: 0.8883 - val_loss: 0.2947 - val_accuracy: 0.9060 - 189s/epoch - 289ms/step\n",
            "Epoch 5/30\n",
            "655/655 - 190s - loss: 0.3423 - accuracy: 0.8916 - val_loss: 0.2764 - val_accuracy: 0.9090 - 190s/epoch - 290ms/step\n",
            "Epoch 6/30\n",
            "655/655 - 190s - loss: 0.3323 - accuracy: 0.8959 - val_loss: 0.2869 - val_accuracy: 0.9063 - 190s/epoch - 291ms/step\n",
            "Epoch 7/30\n",
            "655/655 - 190s - loss: 0.3145 - accuracy: 0.8995 - val_loss: 0.2894 - val_accuracy: 0.9073 - 190s/epoch - 290ms/step\n",
            "Epoch 8/30\n",
            "655/655 - 190s - loss: 0.3103 - accuracy: 0.9029 - val_loss: 0.2775 - val_accuracy: 0.9111 - 190s/epoch - 291ms/step\n",
            "Epoch 9/30\n",
            "655/655 - 189s - loss: 0.3017 - accuracy: 0.9034 - val_loss: 0.2875 - val_accuracy: 0.9084 - 189s/epoch - 289ms/step\n",
            "Epoch 10/30\n",
            "655/655 - 192s - loss: 0.2982 - accuracy: 0.9065 - val_loss: 0.2818 - val_accuracy: 0.9088 - 192s/epoch - 293ms/step\n",
            "Epoch 11/30\n",
            "655/655 - 191s - loss: 0.2848 - accuracy: 0.9090 - val_loss: 0.2787 - val_accuracy: 0.9098 - 191s/epoch - 291ms/step\n",
            "Epoch 12/30\n",
            "655/655 - 190s - loss: 0.2862 - accuracy: 0.9098 - val_loss: 0.2803 - val_accuracy: 0.9096 - 190s/epoch - 291ms/step\n",
            "Epoch 13/30\n",
            "655/655 - 194s - loss: 0.2764 - accuracy: 0.9107 - val_loss: 0.2770 - val_accuracy: 0.9132 - 194s/epoch - 297ms/step\n",
            "Epoch 14/30\n",
            "655/655 - 191s - loss: 0.2699 - accuracy: 0.9124 - val_loss: 0.2766 - val_accuracy: 0.9111 - 191s/epoch - 291ms/step\n",
            "Epoch 15/30\n",
            "655/655 - 190s - loss: 0.2705 - accuracy: 0.9145 - val_loss: 0.2904 - val_accuracy: 0.9086 - 190s/epoch - 290ms/step\n",
            "Epoch 16/30\n",
            "655/655 - 194s - loss: 0.2614 - accuracy: 0.9179 - val_loss: 0.2801 - val_accuracy: 0.9130 - 194s/epoch - 297ms/step\n",
            "Epoch 17/30\n",
            "655/655 - 191s - loss: 0.2582 - accuracy: 0.9177 - val_loss: 0.2847 - val_accuracy: 0.9134 - 191s/epoch - 292ms/step\n",
            "Epoch 18/30\n",
            "655/655 - 190s - loss: 0.2547 - accuracy: 0.9200 - val_loss: 0.2591 - val_accuracy: 0.9151 - 190s/epoch - 291ms/step\n",
            "Epoch 19/30\n",
            "655/655 - 191s - loss: 0.2483 - accuracy: 0.9208 - val_loss: 0.2643 - val_accuracy: 0.9146 - 191s/epoch - 291ms/step\n",
            "Epoch 20/30\n",
            "655/655 - 189s - loss: 0.2426 - accuracy: 0.9223 - val_loss: 0.2776 - val_accuracy: 0.9104 - 189s/epoch - 289ms/step\n",
            "Epoch 21/30\n",
            "655/655 - 190s - loss: 0.2360 - accuracy: 0.9237 - val_loss: 0.2542 - val_accuracy: 0.9165 - 190s/epoch - 290ms/step\n",
            "Epoch 22/30\n",
            "655/655 - 190s - loss: 0.2355 - accuracy: 0.9259 - val_loss: 0.2585 - val_accuracy: 0.9169 - 190s/epoch - 290ms/step\n",
            "Epoch 23/30\n",
            "\n",
            "reached\n",
            "655/655 - 189s - loss: 0.2342 - accuracy: 0.9250 - val_loss: 0.2646 - val_accuracy: 0.9216 - 189s/epoch - 289ms/step\n"
          ]
        }
      ]
    },
    {
      "cell_type": "code",
      "source": [
        "import matplotlib.pyplot as plt\n",
        "plt.plot(history.history['accuracy'])\n",
        "plt.plot(history.history['val_accuracy'])\n",
        "plt.title(\"Model's Accuracy\")\n",
        "plt.ylabel('accuracy')\n",
        "plt.xlabel('epoch')\n",
        "plt.legend(['training', 'validation'], loc='lower right')\n",
        "plt.show()"
      ],
      "metadata": {
        "colab": {
          "base_uri": "https://localhost:8080/",
          "height": 472
        },
        "id": "Zv9Hhqk5V4e0",
        "outputId": "d1bd5467-8762-4ef0-9bda-61968cb0bbf0"
      },
      "execution_count": 15,
      "outputs": [
        {
          "output_type": "display_data",
          "data": {
            "text/plain": [
              "<Figure size 640x480 with 1 Axes>"
            ],
            "image/png": "[encoded data removed]"
          },
          "metadata": {}
        }
      ]
    },
    {
      "cell_type": "code",
      "source": [
        "plt.plot(history.history['loss'])\n",
        "plt.plot(history.history['val_loss'])\n",
        "plt.title(\"Model's Loss\")\n",
        "plt.ylabel('loss')\n",
        "plt.xlabel('epoch')\n",
        "plt.legend(['training', 'validation'], loc='lower left')\n",
        "plt.show()"
      ],
      "metadata": {
        "colab": {
          "base_uri": "https://localhost:8080/",
          "height": 472
        },
        "id": "WMia8kwCV7sP",
        "outputId": "08642a5f-9b57-46ef-8eae-e252ea3d0f86"
      },
      "execution_count": 16,
      "outputs": [
        {
          "output_type": "display_data",
          "data": {
            "text/plain": [
              "<Figure size 640x480 with 1 Axes>"
            ],
            "image/png": "[encoded data removed]"
          },
          "metadata": {}
        }
      ]
    },
    {
      "cell_type": "code",
      "source": [
        "import pathlib\n",
        "# Menyimpan model dalam format SavedModel\n",
        "export_dir = 'saved_model/'\n",
        "tf.saved_model.save(model, export_dir)\n",
        "\n",
        "# Convert SavedModel menjadi vegs.tflite\n",
        "converter = tf.lite.TFLiteConverter.from_saved_model(export_dir)\n",
        "tflite_model = converter.convert()\n",
        "\n",
        "tflite_model_file = pathlib.Path('animals.tflite')\n",
        "tflite_model_file.write_bytes(tflite_model)"
      ],
      "metadata": {
        "colab": {
          "base_uri": "https://localhost:8080/"
        },
        "id": "v6ci37-GV9CI",
        "outputId": "93fd1368-23cb-414a-c2b5-97da94b518ce"
      },
      "execution_count": 17,
      "outputs": [
        {
          "output_type": "execute_result",
          "data": {
            "text/plain": [
              "237542652"
            ]
          },
          "metadata": {},
          "execution_count": 17
        }
      ]
    }
  ]
}